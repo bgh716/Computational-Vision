{
  "nbformat": 4,
  "nbformat_minor": 0,
  "metadata": {
    "accelerator": "GPU",
    "colab": {
      "name": "lab3.ipynb",
      "provenance": [],
      "collapsed_sections": [],
      "machine_shape": "hm"
    },
    "kernelspec": {
      "display_name": "Python 3",
      "name": "python3"
    }
  },
  "cells": [
    {
      "cell_type": "markdown",
      "metadata": {
        "id": "QHnVupBBn9eR"
      },
      "source": [
        "\n",
        "# Assignment 3\n",
        "\n",
        "This is a template notebook for Assignment 3.\n"
      ]
    },
    {
      "cell_type": "markdown",
      "metadata": {
        "id": "vM54r6jlKTII"
      },
      "source": [
        "## Install dependencies and initialization"
      ]
    },
    {
      "cell_type": "code",
      "metadata": {
        "colab": {
          "base_uri": "https://localhost:8080/"
        },
        "id": "9_FzH13EjseR",
        "outputId": "d8905ee3-d5ea-4f93-84da-ef0e7e22c11c"
      },
      "source": [
        "# install dependencies: \n",
        "!pip install pyyaml==5.1 pycocotools>=2.0.1\n",
        "# !pip install detectron2 -f https://dl.fbaipublicfiles.com/detectron2/wheels/cu101/torch1.6/index.html\n",
        "!pip install detectron2 -f https://dl.fbaipublicfiles.com/detectron2/wheels/cu111/torch1.9/index.html\n",
        "!pip install h5py"
      ],
      "execution_count": 2,
      "outputs": [
        {
          "output_type": "stream",
          "name": "stdout",
          "text": [
            "\u001b[31mERROR: Operation cancelled by user\u001b[0m\n",
            "Looking in links: https://dl.fbaipublicfiles.com/detectron2/wheels/cu111/torch1.9/index.html\n",
            "Collecting detectron2\n",
            "  Downloading https://dl.fbaipublicfiles.com/detectron2/wheels/cu111/torch1.9/detectron2-0.6%2Bcu111-cp37-cp37m-linux_x86_64.whl (6.9 MB)\n",
            "\u001b[K     |█████████████████████████▎      | 5.4 MB 537 kB/s eta 0:00:03\n",
            "\u001b[31mERROR: Exception:\n",
            "Traceback (most recent call last):\n",
            "  File \"/usr/local/lib/python3.7/dist-packages/pip/_internal/cli/base_command.py\", line 180, in _main\n",
            "    status = self.run(options, args)\n",
            "  File \"/usr/local/lib/python3.7/dist-packages/pip/_internal/cli/req_command.py\", line 199, in wrapper\n",
            "    return func(self, options, args)\n",
            "  File \"/usr/local/lib/python3.7/dist-packages/pip/_internal/commands/install.py\", line 319, in run\n",
            "    reqs, check_supported_wheels=not options.target_dir\n",
            "  File \"/usr/local/lib/python3.7/dist-packages/pip/_internal/resolution/resolvelib/resolver.py\", line 128, in resolve\n",
            "    requirements, max_rounds=try_to_avoid_resolution_too_deep\n",
            "  File \"/usr/local/lib/python3.7/dist-packages/pip/_vendor/resolvelib/resolvers.py\", line 473, in resolve\n",
            "    state = resolution.resolve(requirements, max_rounds=max_rounds)\n",
            "  File \"/usr/local/lib/python3.7/dist-packages/pip/_vendor/resolvelib/resolvers.py\", line 341, in resolve\n",
            "    name, crit = self._merge_into_criterion(r, parent=None)\n",
            "  File \"/usr/local/lib/python3.7/dist-packages/pip/_vendor/resolvelib/resolvers.py\", line 172, in _merge_into_criterion\n",
            "    if not criterion.candidates:\n",
            "  File \"/usr/local/lib/python3.7/dist-packages/pip/_vendor/resolvelib/structs.py\", line 139, in __bool__\n",
            "    return bool(self._sequence)\n",
            "  File \"/usr/local/lib/python3.7/dist-packages/pip/_internal/resolution/resolvelib/found_candidates.py\", line 143, in __bool__\n",
            "    return any(self)\n",
            "  File \"/usr/local/lib/python3.7/dist-packages/pip/_internal/resolution/resolvelib/found_candidates.py\", line 129, in <genexpr>\n",
            "    return (c for c in iterator if id(c) not in self._incompatible_ids)\n",
            "  File \"/usr/local/lib/python3.7/dist-packages/pip/_internal/resolution/resolvelib/found_candidates.py\", line 33, in _iter_built\n",
            "    candidate = func()\n",
            "  File \"/usr/local/lib/python3.7/dist-packages/pip/_internal/resolution/resolvelib/factory.py\", line 205, in _make_candidate_from_link\n",
            "    version=version,\n",
            "  File \"/usr/local/lib/python3.7/dist-packages/pip/_internal/resolution/resolvelib/candidates.py\", line 312, in __init__\n",
            "    version=version,\n",
            "  File \"/usr/local/lib/python3.7/dist-packages/pip/_internal/resolution/resolvelib/candidates.py\", line 151, in __init__\n",
            "    self.dist = self._prepare()\n",
            "  File \"/usr/local/lib/python3.7/dist-packages/pip/_internal/resolution/resolvelib/candidates.py\", line 234, in _prepare\n",
            "    dist = self._prepare_distribution()\n",
            "  File \"/usr/local/lib/python3.7/dist-packages/pip/_internal/resolution/resolvelib/candidates.py\", line 318, in _prepare_distribution\n",
            "    self._ireq, parallel_builds=True\n",
            "  File \"/usr/local/lib/python3.7/dist-packages/pip/_internal/operations/prepare.py\", line 508, in prepare_linked_requirement\n",
            "    return self._prepare_linked_requirement(req, parallel_builds)\n",
            "  File \"/usr/local/lib/python3.7/dist-packages/pip/_internal/operations/prepare.py\", line 552, in _prepare_linked_requirement\n",
            "    self.download_dir, hashes\n",
            "  File \"/usr/local/lib/python3.7/dist-packages/pip/_internal/operations/prepare.py\", line 243, in unpack_url\n",
            "    hashes=hashes,\n",
            "  File \"/usr/local/lib/python3.7/dist-packages/pip/_internal/operations/prepare.py\", line 102, in get_http_url\n",
            "    from_path, content_type = download(link, temp_dir.path)\n",
            "  File \"/usr/local/lib/python3.7/dist-packages/pip/_internal/network/download.py\", line 157, in __call__\n",
            "    for chunk in chunks:\n",
            "  File \"/usr/local/lib/python3.7/dist-packages/pip/_internal/cli/progress_bars.py\", line 152, in iter\n",
            "    for x in it:\n",
            "  File \"/usr/local/lib/python3.7/dist-packages/pip/_internal/network/utils.py\", line 86, in response_chunks\n",
            "    decode_content=False,\n",
            "  File \"/usr/local/lib/python3.7/dist-packages/pip/_vendor/urllib3/response.py\", line 576, in stream\n",
            "    data = self.read(amt=amt, decode_content=decode_content)\n",
            "  File \"/usr/local/lib/python3.7/dist-packages/pip/_vendor/urllib3/response.py\", line 519, in read\n",
            "    data = self._fp.read(amt) if not fp_closed else b\"\"\n",
            "  File \"/usr/local/lib/python3.7/dist-packages/pip/_vendor/cachecontrol/filewrapper.py\", line 62, in read\n",
            "    data = self.__fp.read(amt)\n",
            "  File \"/usr/lib/python3.7/http/client.py\", line 465, in read\n",
            "    n = self.readinto(b)\n",
            "  File \"/usr/lib/python3.7/http/client.py\", line 509, in readinto\n",
            "    n = self.fp.readinto(b)\n",
            "  File \"/usr/lib/python3.7/socket.py\", line 589, in readinto\n",
            "    return self._sock.recv_into(b)\n",
            "  File \"/usr/lib/python3.7/ssl.py\", line 1071, in recv_into\n",
            "    return self.read(nbytes, buffer)\n",
            "  File \"/usr/lib/python3.7/ssl.py\", line 929, in read\n",
            "    return self._sslobj.read(len, buffer)\n",
            "  File \"/usr/local/lib/python3.7/dist-packages/pip/_internal/cli/progress_bars.py\", line 106, in handle_sigint\n",
            "    self.finish()\n",
            "  File \"/usr/local/lib/python3.7/dist-packages/pip/_internal/cli/progress_bars.py\", line 96, in finish\n",
            "    super().finish()  # type: ignore\n",
            "  File \"/usr/local/lib/python3.7/dist-packages/pip/_vendor/progress/__init__.py\", line 107, in finish\n",
            "    print(file=self.file)\n",
            "  File \"/usr/local/lib/python3.7/dist-packages/pip/_internal/cli/progress_bars.py\", line 106, in handle_sigint\n",
            "    self.finish()\n",
            "  File \"/usr/local/lib/python3.7/dist-packages/pip/_internal/cli/progress_bars.py\", line 96, in finish\n",
            "    super().finish()  # type: ignore\n",
            "  File \"/usr/local/lib/python3.7/dist-packages/pip/_vendor/progress/__init__.py\", line 107, in finish\n",
            "    print(file=self.file)\n",
            "RuntimeError: reentrant call inside <_io.BufferedWriter name='<stdout>'>\u001b[0m\n",
            "Requirement already satisfied: h5py in /usr/local/lib/python3.7/dist-packages (3.1.0)\n",
            "Requirement already satisfied: numpy>=1.14.5 in /usr/local/lib/python3.7/dist-packages (from h5py) (1.19.5)\n",
            "Requirement already satisfied: cached-property in /usr/local/lib/python3.7/dist-packages (from h5py) (1.5.2)\n"
          ]
        }
      ]
    },
    {
      "cell_type": "code",
      "metadata": {
        "colab": {
          "base_uri": "https://localhost:8080/"
        },
        "id": "dqAUb5Y12qXt",
        "outputId": "afb8f930-17f4-46a2-aaa7-0df2985a7043"
      },
      "source": [
        "!pwd # shows current directory\n",
        "!ls  # shows all files in this directory\n",
        "!nvidia-smi # shows the specs and the current status of the allocated GPU"
      ],
      "execution_count": 3,
      "outputs": [
        {
          "output_type": "stream",
          "name": "stdout",
          "text": [
            "/content\n",
            "'=2.0.1'   sample_data\n",
            "Fri Nov  5 06:38:47 2021       \n",
            "+-----------------------------------------------------------------------------+\n",
            "| NVIDIA-SMI 495.44       Driver Version: 460.32.03    CUDA Version: 11.2     |\n",
            "|-------------------------------+----------------------+----------------------+\n",
            "| GPU  Name        Persistence-M| Bus-Id        Disp.A | Volatile Uncorr. ECC |\n",
            "| Fan  Temp  Perf  Pwr:Usage/Cap|         Memory-Usage | GPU-Util  Compute M. |\n",
            "|                               |                      |               MIG M. |\n",
            "|===============================+======================+======================|\n",
            "|   0  Tesla P100-PCIE...  Off  | 00000000:00:04.0 Off |                    0 |\n",
            "| N/A   40C    P0    26W / 250W |      0MiB / 16280MiB |      0%      Default |\n",
            "|                               |                      |                  N/A |\n",
            "+-------------------------------+----------------------+----------------------+\n",
            "                                                                               \n",
            "+-----------------------------------------------------------------------------+\n",
            "| Processes:                                                                  |\n",
            "|  GPU   GI   CI        PID   Type   Process name                  GPU Memory |\n",
            "|        ID   ID                                                   Usage      |\n",
            "|=============================================================================|\n",
            "|  No running processes found                                                 |\n",
            "+-----------------------------------------------------------------------------+\n"
          ]
        }
      ]
    },
    {
      "cell_type": "code",
      "metadata": {
        "colab": {
          "base_uri": "https://localhost:8080/",
          "height": 362
        },
        "id": "b-i4hmGYk1dL",
        "outputId": "5c785e8d-792a-41fb-f35e-5cd3c158a002"
      },
      "source": [
        "# import some common libraries\n",
        "from google.colab.patches import cv2_imshow\n",
        "from sklearn.metrics import jaccard_score\n",
        "from PIL import Image, ImageDraw\n",
        "from tqdm.notebook import tqdm\n",
        "import pandas as pd\n",
        "import numpy as np\n",
        "import datetime\n",
        "import random\n",
        "import json\n",
        "import cv2\n",
        "import csv\n",
        "import os\n",
        "import h5py\n",
        "import io\n",
        "import shutil\n",
        "\n",
        "# import some common pytorch utilities\n",
        "from torch.utils.data import Dataset, DataLoader\n",
        "import torchvision.transforms as transforms\n",
        "from torch.autograd import Variable\n",
        "import torch.nn.functional as F\n",
        "import torch.nn as nn\n",
        "import torch\n",
        "import tensorflow as tf\n",
        "\n",
        "# import some common detectron2 utilities\n",
        "import detectron2\n",
        "from detectron2 import model_zoo\n",
        "from detectron2.config import get_cfg\n",
        "from detectron2.structures import BoxMode\n",
        "from detectron2.engine import DefaultTrainer\n",
        "from detectron2.engine import DefaultPredictor\n",
        "from detectron2.utils.logger import setup_logger\n",
        "from detectron2.utils.visualizer import ColorMode\n",
        "from detectron2.utils.visualizer import Visualizer, GenericMask\n",
        "from detectron2.data import build_detection_test_loader, build_detection_train_loader\n",
        "from detectron2.data import MetadataCatalog, DatasetCatalog\n",
        "from detectron2.evaluation import COCOEvaluator, inference_on_dataset\n",
        "setup_logger()"
      ],
      "execution_count": 4,
      "outputs": [
        {
          "output_type": "error",
          "ename": "RuntimeError",
          "evalue": "ignored",
          "traceback": [
            "\u001b[0;31m---------------------------------------------------------------------------\u001b[0m",
            "\u001b[0;31mRuntimeError\u001b[0m                              Traceback (most recent call last)",
            "\u001b[0;32m<ipython-input-4-11637518bb96>\u001b[0m in \u001b[0;36m<module>\u001b[0;34m()\u001b[0m\n\u001b[1;32m     17\u001b[0m \u001b[0;34m\u001b[0m\u001b[0m\n\u001b[1;32m     18\u001b[0m \u001b[0;31m# import some common pytorch utilities\u001b[0m\u001b[0;34m\u001b[0m\u001b[0;34m\u001b[0m\u001b[0;34m\u001b[0m\u001b[0m\n\u001b[0;32m---> 19\u001b[0;31m \u001b[0;32mfrom\u001b[0m \u001b[0mtorch\u001b[0m\u001b[0;34m.\u001b[0m\u001b[0mutils\u001b[0m\u001b[0;34m.\u001b[0m\u001b[0mdata\u001b[0m \u001b[0;32mimport\u001b[0m \u001b[0mDataset\u001b[0m\u001b[0;34m,\u001b[0m \u001b[0mDataLoader\u001b[0m\u001b[0;34m\u001b[0m\u001b[0;34m\u001b[0m\u001b[0m\n\u001b[0m\u001b[1;32m     20\u001b[0m \u001b[0;32mimport\u001b[0m \u001b[0mtorchvision\u001b[0m\u001b[0;34m.\u001b[0m\u001b[0mtransforms\u001b[0m \u001b[0;32mas\u001b[0m \u001b[0mtransforms\u001b[0m\u001b[0;34m\u001b[0m\u001b[0;34m\u001b[0m\u001b[0m\n\u001b[1;32m     21\u001b[0m \u001b[0;32mfrom\u001b[0m \u001b[0mtorch\u001b[0m\u001b[0;34m.\u001b[0m\u001b[0mautograd\u001b[0m \u001b[0;32mimport\u001b[0m \u001b[0mVariable\u001b[0m\u001b[0;34m\u001b[0m\u001b[0;34m\u001b[0m\u001b[0m\n",
            "\u001b[0;32m/usr/local/lib/python3.7/dist-packages/torch/__init__.py\u001b[0m in \u001b[0;36m<module>\u001b[0;34m()\u001b[0m\n\u001b[1;32m    195\u001b[0m     \u001b[0;32mif\u001b[0m \u001b[0mUSE_GLOBAL_DEPS\u001b[0m\u001b[0;34m:\u001b[0m\u001b[0;34m\u001b[0m\u001b[0;34m\u001b[0m\u001b[0m\n\u001b[1;32m    196\u001b[0m         \u001b[0m_load_global_deps\u001b[0m\u001b[0;34m(\u001b[0m\u001b[0;34m)\u001b[0m\u001b[0;34m\u001b[0m\u001b[0;34m\u001b[0m\u001b[0m\n\u001b[0;32m--> 197\u001b[0;31m     \u001b[0;32mfrom\u001b[0m \u001b[0mtorch\u001b[0m\u001b[0;34m.\u001b[0m\u001b[0m_C\u001b[0m \u001b[0;32mimport\u001b[0m \u001b[0;34m*\u001b[0m  \u001b[0;31m# noqa: F403\u001b[0m\u001b[0;34m\u001b[0m\u001b[0;34m\u001b[0m\u001b[0m\n\u001b[0m\u001b[1;32m    198\u001b[0m \u001b[0;34m\u001b[0m\u001b[0m\n\u001b[1;32m    199\u001b[0m \u001b[0;31m# Appease the type checker; ordinarily this binding is inserted by the\u001b[0m\u001b[0;34m\u001b[0m\u001b[0;34m\u001b[0m\u001b[0;34m\u001b[0m\u001b[0m\n",
            "\u001b[0;31mRuntimeError\u001b[0m: KeyboardInterrupt: "
          ]
        }
      ]
    },
    {
      "cell_type": "code",
      "metadata": {
        "id": "tUA_j6AF1L5Y"
      },
      "source": [
        "# Make sure that GPU is available for your notebook. \n",
        "# Otherwise, you need to update the settungs in Runtime -> Change runtime type -> Hardware accelerator\n",
        "torch.cuda.is_available()"
      ],
      "execution_count": null,
      "outputs": []
    },
    {
      "cell_type": "code",
      "metadata": {
        "id": "ZyAvNCJMmvFF"
      },
      "source": [
        "# You need to mount your google drive in order to load the data:\n",
        "from google.colab import drive\n",
        "drive.mount('/content/drive')\n",
        "# Put all the corresponding data files in a data folder and put the data folder in a same directory with this notebook.\n",
        "# Also create an output directory for your files such as the trained models and the output images."
      ],
      "execution_count": null,
      "outputs": []
    },
    {
      "cell_type": "code",
      "metadata": {
        "id": "A_Di_fgL4HSv"
      },
      "source": [
        "# Define the location of current directory, which should contain data/train, data/test, and data/train.json.\n",
        "# TODO: approx 1 line\n",
        "BASE_DIR = '/content/drive/My Drive/CMPT_CV_lab3'\n",
        "OUTPUT_DIR = '{}/output'.format(BASE_DIR)\n",
        "os.makedirs(OUTPUT_DIR, exist_ok=True)"
      ],
      "execution_count": null,
      "outputs": []
    },
    {
      "cell_type": "markdown",
      "metadata": {
        "id": "Vk4gID50K03a"
      },
      "source": [
        "## Part 1: Object Detection"
      ]
    },
    {
      "cell_type": "markdown",
      "metadata": {
        "id": "ljuPCQAKY9Md"
      },
      "source": [
        "### PNG to H5PY"
      ]
    },
    {
      "cell_type": "code",
      "metadata": {
        "id": "-gp9HledY7wC"
      },
      "source": [
        "save_path = os.path.join(\"data/images.hdf5\")\n",
        "img_path_train = os.path.join(BASE_DIR,\"data/train\")\n",
        "img_path_test = os.path.join(BASE_DIR,\"data/test\")\n",
        "os.makedirs(\"data\", exist_ok=True)\n",
        "!ls data\n",
        "if \"images.hdf5\" not in os.listdir(\"data\"):\n",
        "  print(\"producing new hdf5\")\n",
        "  hf = h5py.File(save_path,'a')\n",
        "  train = hf.create_group(\"train\")\n",
        "  test = hf.create_group(\"test\")\n",
        "  val = hf.create_group(\"val\")\n",
        "else:\n",
        "  print(\"removing old hdf5\")\n",
        "  os.remove(save_path)\n",
        "  !ls data\n",
        "  print(\"done\")\n",
        "  print(\"producing new hdf5\")\n",
        "  hf = h5py.File(save_path,'a')\n",
        "  !ls data\n",
        "  train = hf.create_group(\"train\")\n",
        "  test = hf.create_group(\"test\")\n",
        "  val = hf.create_group(\"val\")\n",
        "\n",
        "\n",
        "for img in random.sample(os.listdir(img_path_train),20):\n",
        "  if img not in hf['val']:\n",
        "    img_path = os.path.join(img_path_train, img)\n",
        "    image_data = Image.open(img_path)\n",
        "  \n",
        "    val.create_dataset(img, data=np.asarray(image_data))\n",
        "\n",
        "for img in os.listdir(img_path_train):\n",
        "  if img not in hf['train'] and img not in hf['val']:\n",
        "    img_path = os.path.join(img_path_train, img)\n",
        "    image_data = Image.open(img_path)\n",
        "    \n",
        "    train.create_dataset(img, data=np.asarray(image_data))\n",
        "\n",
        "for img in os.listdir(img_path_test):\n",
        "  if img not in hf['test']:\n",
        "    img_path = os.path.join(img_path_test, img)\n",
        "    image_data = Image.open(img_path)\n",
        "\n",
        "    test.create_dataset(img, data=np.asarray(image_data))\n",
        "\n",
        "print(\"done\")\n",
        "!ls data\n",
        "hf.close()"
      ],
      "execution_count": null,
      "outputs": []
    },
    {
      "cell_type": "markdown",
      "metadata": {
        "id": "xRV-KFJzlur4"
      },
      "source": [
        "### Data Loader"
      ]
    },
    {
      "cell_type": "code",
      "metadata": {
        "id": "dq9GY37ml1kr"
      },
      "source": [
        "'''\n",
        "# This function should return a list of data samples in which each sample is a dictionary. \n",
        "# Make sure to select the correct bbox_mode for the data\n",
        "# For the test data, you only have access to the images, therefore, the annotations should be empty.\n",
        "# Other values could be obtained from the image files.\n",
        "# TODO: approx 35 lines\n",
        "'''\n",
        "#hf = h5py.File(save_path, 'r')\n",
        "#hf.close()\n",
        "def get_detection_data(set_name):\n",
        "  data_dirs = '{}/data'.format(BASE_DIR)\n",
        "  dataset = []\n",
        "  tracker = {}\n",
        "  tracker_i = 0\n",
        "\n",
        "  if set_name == \"train\" or set_name == \"val\":\n",
        "    json_file = os.path.join(data_dirs, \"train.json\")\n",
        "    with open(json_file) as f:\n",
        "      imgs = json.load(f)\n",
        "    data_dirs = os.path.join(data_dirs,\"train\")\n",
        "\n",
        "  if set_name == \"test\":\n",
        "    data_dirs = os.path.join(data_dirs,\"test\")\n",
        "    imgs = os.listdir(data_dirs)\n",
        "\n",
        "  hf = h5py.File(save_path, 'r')\n",
        "\n",
        "  for idx, v in enumerate(imgs):\n",
        "    record = {}\n",
        "    objs = []\n",
        "\n",
        "    if set_name == \"train\" or set_name == \"val\":\n",
        "      index = v[\"file_name\"]\n",
        "      filename = os.path.join(data_dirs,v[\"file_name\"])\n",
        "      id = v['image_id']\n",
        "      obj = {\n",
        "        \"bbox\": v[\"bbox\"],\n",
        "        \"bbox_mode\": BoxMode.XYWH_ABS,\n",
        "        \"segmentation\": v[\"segmentation\"],\n",
        "        \"category_id\": 0,\n",
        "        \"iscrowd\": v[\"iscrowd\"],}\n",
        "    elif set_name == \"test\":\n",
        "      id = idx\n",
        "      index = v\n",
        "      filename = os.path.join(data_dirs,v)\n",
        "      obj = {\"category_id\": 0,}\n",
        "    if index not in tracker:\n",
        "      if index in hf[set_name]:\n",
        "        size = list(hf[set_name][index].shape)\n",
        "        height = size[0]\n",
        "        width = size[1]\n",
        "      else:\n",
        "        continue\n",
        "\n",
        "      tracker[index] = tracker_i\n",
        "      tracker_i = tracker_i + 1\n",
        "\n",
        "      #common\n",
        "      record[\"file_name\"] = filename  #full path of image files.\n",
        "      record[\"image_id\"] = id  #test set does not have json file, so we use idx instead of actual image_id.\n",
        "      record[\"height\"] = height\n",
        "      record[\"width\"] = width\n",
        "\n",
        "      objs.append(obj)\n",
        "      record[\"annotations\"] = objs\n",
        "\n",
        "      #instance detection/segmentation\n",
        "      dataset.append(record)\n",
        "    else:\n",
        "      dataset[tracker[index]][\"annotations\"].append(obj)\n",
        "\n",
        "  hf.close()  \n",
        "  return dataset"
      ],
      "execution_count": null,
      "outputs": []
    },
    {
      "cell_type": "code",
      "metadata": {
        "id": "xCH-2mWxDVVu"
      },
      "source": [
        "'''\n",
        "# Remember to add your dataset to DatasetCatalog and MetadataCatalog\n",
        "# Consdier \"data_detection_train\" and \"data_detection_test\" for registration\n",
        "# You can also add an optional \"data_detection_val\" for your validation by spliting the training data\n",
        "# TODO: approx 5 lines\n",
        "'''\n",
        "#plane_metadata = {}\n",
        "for d in [\"train\", \"test\", \"val\"]:\n",
        "  DatasetCatalog.register(\"data_detection_\" + d, lambda d=d: get_detection_data(d))\n",
        "  MetadataCatalog.get(\"data_detection_\" + d).set(thing_classes=[\"plane\"])\n",
        "plane_metadata = MetadataCatalog.get(\"data_detection_train\")\n"
      ],
      "execution_count": null,
      "outputs": []
    },
    {
      "cell_type": "code",
      "metadata": {
        "id": "qNSdXCL_DVAz"
      },
      "source": [
        "'''\n",
        "# Visualize some samples using Visualizer to make sure that the function works correctly\n",
        "# TODO: approx 5 lines\n",
        "'''\n",
        "#hf = h5py.File(save_path, 'r')\n",
        "#data = list(hf['test']['P0161.png'].shape)\n",
        "#print(data)\n",
        "#hf.close()\n",
        "\n",
        "dataset_dicts = get_detection_data(\"train\")\n",
        "for d in random.sample(dataset_dicts, 3):\n",
        "    img = cv2.imread(d[\"file_name\"])\n",
        "    visualizer = Visualizer(img[:, :, ::-1], metadata=plane_metadata, scale=0.5)\n",
        "    out = visualizer.draw_dataset_dict(d)\n",
        "    cv2_imshow(out.get_image()[:, :, ::-1])\n"
      ],
      "execution_count": null,
      "outputs": []
    },
    {
      "cell_type": "markdown",
      "metadata": {
        "id": "uM1thbN-ntjI"
      },
      "source": [
        "### Set Configs"
      ]
    },
    {
      "cell_type": "code",
      "metadata": {
        "id": "HUjkwRsOn1O0"
      },
      "source": [
        "'''\n",
        "# Set the configs for the detection part in here.\n",
        "# TODO: approx 15 lines\n",
        "'''\n",
        "#COCO-Detection/retinanet_R_101_FPN_3x.yaml RETINANET\n",
        "#COCO-Detection/faster_rcnn_R_101_FPN_3x.yaml FPN\n",
        "#COCO-Detection/rpn_R_50_FPN_1x.yaml RPN\n",
        "cfg = get_cfg()\n",
        "cfg.OUTPUT_DIR = \"{}/output/\".format(BASE_DIR)\n",
        "cfg.merge_from_file(model_zoo.get_config_file(\"COCO-Detection/faster_rcnn_R_101_FPN_3x.yaml\"))\n",
        "cfg.DATASETS.TRAIN = (\"data_detection_train\",)\n",
        "cfg.DATASETS.TEST = (\"data_detection_val\",)\n",
        "cfg.DATALOADER.NUM_WORKERS = 2\n",
        "cfg.MODEL.WEIGHTS = model_zoo.get_checkpoint_url(\"COCO-Detection/faster_rcnn_R_101_FPN_3x.yaml\")  # Let training initialize from model zoo\n",
        "cfg.SOLVER.IMS_PER_BATCH = 2 # 2 = 1 58%\n",
        "cfg.SOLVER.BASE_LR = 0.025  # pick a good LR\n",
        "cfg.SOLVER.MAX_ITER = 500\n",
        "cfg.SOLVER.STEPS = [200,]#[300,]        # decay learning rate\n",
        "cfg.SOLVER.GAMMA = 0.1\n",
        "cfg.MODEL.ROI_HEADS.BATCH_SIZE_PER_IMAGE = 64   # faster, and good enough for this toy dataset (default: 512)\n",
        "cfg.MODEL.ROI_HEADS.NUM_CLASSES = 1\n",
        "cfg.MODEL.RETINANET.NUM_CLASSES = 1\n",
        "cfg.MODEL.RETINANET.BATCH_SIZE_PER_IMAGE = 64\n",
        "#cfg.INPUT.MIN_SIZE_TRAIN = 1000\n",
        "#cfg.INPUT.MIN_SIZE_TEST = 1000\n",
        "cfg.INPUT.MAX_SIZE_TRAIN = 3000 # 8000=6000 = 4000 58%\n",
        "cfg.INPUT.MAX_SIZE_TEST = 3000\n",
        "\n",
        "#cfg.TEST.DETECTIONS_PER_IMAGE = 1000"
      ],
      "execution_count": null,
      "outputs": []
    },
    {
      "cell_type": "markdown",
      "metadata": {
        "id": "P4rql8pNokE4"
      },
      "source": [
        "### Training"
      ]
    },
    {
      "cell_type": "code",
      "metadata": {
        "id": "7d3KxiHO_0gb"
      },
      "source": [
        "'''\n",
        "# Create a DefaultTrainer using the above config and train the model\n",
        "# TODO: approx 5 lines\n",
        "'''\n",
        "os.makedirs(cfg.OUTPUT_DIR, exist_ok=True)\n",
        "trainer = DefaultTrainer(cfg) \n",
        "trainer.resume_or_load(resume=False)\n",
        "trainer.train()"
      ],
      "execution_count": null,
      "outputs": []
    },
    {
      "cell_type": "code",
      "metadata": {
        "id": "gGgiDEJL3Mbd"
      },
      "source": [
        "%load_ext tensorboard\n",
        "%tensorboard --logdir drive/MyDrive/CMPT_CV_lab3/output"
      ],
      "execution_count": null,
      "outputs": []
    },
    {
      "cell_type": "markdown",
      "metadata": {
        "id": "fRVEiICco3SV"
      },
      "source": [
        "### Evaluation and Visualization"
      ]
    },
    {
      "cell_type": "code",
      "metadata": {
        "id": "VYCIXdMZvDYL"
      },
      "source": [
        "'''\n",
        "# After training the model, you need to update cfg.MODEL.WEIGHTS\n",
        "# Define a DefaultPredictor\n",
        "'''\n",
        "cfg.MODEL.WEIGHTS = os.path.join(cfg.OUTPUT_DIR, \"model_final.pth\")  # path to the model we just trained\n",
        "cfg.MODEL.ROI_HEADS.SCORE_THRESH_TEST = 0.6   # set a custom testing threshold\n",
        "cfg.MODEL.RETINANET.SCORE_THRESH_TEST = 0.6 #for RETINA\n",
        "predictor = DefaultPredictor(cfg)"
      ],
      "execution_count": null,
      "outputs": []
    },
    {
      "cell_type": "code",
      "metadata": {
        "id": "_hRCf86KGi5v"
      },
      "source": [
        "'''\n",
        "# Visualize the output for 3 random test samples\n",
        "# TODO: approx 10 lines\n",
        "'''\n",
        "dataset_dicts = get_detection_data(\"test\")\n",
        "for d in random.sample(dataset_dicts, 5):    \n",
        "    im = cv2.imread(d[\"file_name\"])\n",
        "    outputs = predictor(im)  # format is documented at https://detectron2.readthedocs.io/tutorials/models.html#model-output-format\n",
        "    v = Visualizer(im[:, :, ::-1],\n",
        "                   metadata=plane_metadata, \n",
        "                   scale=0.5, \n",
        "                   instance_mode=ColorMode.IMAGE_BW   # remove the colors of unsegmented pixels. This option is only available for segmentation models\n",
        "    )\n",
        "    out = v.draw_instance_predictions(outputs[\"instances\"].to(\"cpu\"))\n",
        "    cv2_imshow(out.get_image()[:, :, ::-1])"
      ],
      "execution_count": null,
      "outputs": []
    },
    {
      "cell_type": "code",
      "metadata": {
        "id": "D0wRdlcKo6BD"
      },
      "source": [
        "'''\n",
        "# Use COCOEvaluator and build_detection_train_loader\n",
        "# You can save the output predictions using inference_on_dataset\n",
        "# TODO: approx 5 lines\n",
        "'''\n",
        "!ls drive/MyDrive/CMPT_CV_lab3/output\n",
        "evaluator = COCOEvaluator(\"data_detection_val\", output_dir = cfg.OUTPUT_DIR)\n",
        "train_loader = build_detection_test_loader(cfg, \"data_detection_val\")\n",
        "print(inference_on_dataset(predictor.model, train_loader, evaluator))"
      ],
      "execution_count": null,
      "outputs": []
    },
    {
      "cell_type": "markdown",
      "metadata": {
        "id": "EwYvbwcjpKBk"
      },
      "source": [
        "### Improvements\n",
        "\n",
        "For this part, you can bring any improvement which you have by adding new input parameters to the previous functions or defining new functions and variables."
      ]
    },
    {
      "cell_type": "code",
      "metadata": {
        "id": "xdR6KbCZpOlk"
      },
      "source": [
        "'''\n",
        "# Bring any changes and updates regarding the improvement in here\n",
        "'''\n",
        "#chainging hyperparameters like lr(0.0002~0.02 were tested), batch size(512 256 128 64 are tested), baseline models(fast R-CNN, RetinaNet, and RPN are tested) improved performances."
      ],
      "execution_count": null,
      "outputs": []
    },
    {
      "cell_type": "markdown",
      "metadata": {
        "id": "98_M4TooqSs2"
      },
      "source": [
        "## Part 2: Semantic Segmentation"
      ]
    },
    {
      "cell_type": "markdown",
      "metadata": {
        "id": "ByAEsMtIPLrO"
      },
      "source": [
        "### Data Loader"
      ]
    },
    {
      "cell_type": "code",
      "metadata": {
        "id": "peQ95zLuIpkk"
      },
      "source": [
        "'''\n",
        "# Write a function that returns the cropped image and corresponding mask regarding the target bounding box\n",
        "# idx is the index of the target bbox in the data\n",
        "# high-resolution image could be passed or could be load from data['file_name']\n",
        "# You can use the mask attribute of detectron2.utils.visualizer.GenericMask \n",
        "#     to convert the segmentation annotations to binary masks\n",
        "# TODO: approx 10 lines\n",
        "'''\n",
        "\n",
        "def get_instance_sample(data, idx, set_name, img=None):\n",
        "  obj_mask = GenericMask(data['annotations'][idx[1]]['segmentation'],data['height'],data['width']).mask\n",
        "  #obj_img = cv2.imread(data['file_name'])\n",
        "  #print(obj_img.shape)\n",
        "  filename = data[\"file_name\"][-9:]\n",
        "  hf = h5py.File(save_path, 'r')\n",
        "  obj_img = np.array(hf[set_name][filename]).astype(\"uint8\")\n",
        "  x = int(data['annotations'][idx[1]]['bbox'][0])\n",
        "  y = int(data['annotations'][idx[1]]['bbox'][1])\n",
        "  w = int(data['annotations'][idx[1]]['bbox'][2])\n",
        "  h = int(data['annotations'][idx[1]]['bbox'][3])\n",
        "  obj_mask = obj_mask[y:y+h, x:x+w]\n",
        "  obj_img = obj_img[y:y+h, x:x+w]\n",
        "  hf.close()\n",
        "  return obj_img, obj_mask"
      ],
      "execution_count": null,
      "outputs": []
    },
    {
      "cell_type": "code",
      "metadata": {
        "id": "sxrc9X_pjzj-"
      },
      "source": [
        "'''\n",
        "# We have provided a template data loader for your segmentation training\n",
        "# You need to complete the __getitem__() function before running the code\n",
        "# You may also need to add data augmentation or normalization in here\n",
        "'''\n",
        "\n",
        "class PlaneDataset(Dataset):\n",
        "  def __init__(self, set_name, data_list):\n",
        "      self.transforms = transforms.Compose([\n",
        "          transforms.ToTensor(), # Converting the image to tensor and change the image format (Channels-Last => Channels-First)\n",
        "      ])\n",
        "      self.set_name = set_name\n",
        "      self.data = data_list\n",
        "      self.instance_map = []\n",
        "      for i, d in enumerate(self.data):\n",
        "        for j in range(len(d['annotations'])):\n",
        "          self.instance_map.append([i,j])\n",
        "\n",
        "  '''\n",
        "  # you can change the value of length to a small number like 10 for debugging of your training procedure and overfeating\n",
        "  # make sure to use the correct length for the final training\n",
        "  '''\n",
        "  def __len__(self):\n",
        "      return len(self.instance_map)\n",
        "\n",
        "  def numpy_to_tensor(self, img, mask):\n",
        "    if self.transforms is not None:\n",
        "        img = self.transforms(img)\n",
        "    img = torch.tensor(img, dtype=torch.float)\n",
        "    mask = torch.tensor(mask, dtype=torch.float)\n",
        "    return img, mask\n",
        "\n",
        "  '''\n",
        "  # Complete this part by using get_instance_sample function\n",
        "  # make sure to resize the img and mask to a fixed size (for example 128*128)\n",
        "  # you can use \"interpolate\" function of pytorch or \"numpy.resize\"\n",
        "  # TODO: 5 lines\n",
        "  '''\n",
        "  def __getitem__(self, idx):\n",
        "    if torch.is_tensor(idx):\n",
        "        idx = idx.tolist()\n",
        "    idx = self.instance_map[idx]\n",
        "    data = self.data[idx[0]]\n",
        "    \n",
        "    img, mask = get_instance_sample(data, idx, self.set_name)\n",
        "    img = cv2.resize(img, dsize = (128,128))\n",
        "    mask = cv2.resize(mask, dsize = (128,128))\n",
        "    mask = mask[np.newaxis, :, : ]\n",
        "    if len(img.shape) == 2:\n",
        "      img = cv2.merge((img,img,img))\n",
        "    \n",
        "    img, mask = self.numpy_to_tensor(img, mask)\n",
        "    \n",
        "\n",
        "    return img, mask\n",
        "\n",
        "def get_plane_dataset(set_name='train', batch_size=2):\n",
        "    my_data_list = DatasetCatalog.get(\"data_detection_{}\".format(set_name))\n",
        "    dataset = PlaneDataset(set_name, my_data_list)\n",
        "    loader = DataLoader(dataset, batch_size=batch_size, num_workers=4,\n",
        "                                              pin_memory=True, shuffle=True)\n",
        "    return loader, dataset"
      ],
      "execution_count": null,
      "outputs": []
    },
    {
      "cell_type": "markdown",
      "metadata": {
        "id": "m6eH3NKaQQfc"
      },
      "source": [
        "### Network"
      ]
    },
    {
      "cell_type": "code",
      "metadata": {
        "id": "PeqR3s3dSBPN"
      },
      "source": [
        "'''\n",
        "# convolution module as a template layer consists of conv2d layer, batch normalization, and relu activation\n",
        "'''\n",
        "class conv(nn.Module):\n",
        "    def __init__(self, in_ch, out_ch, activation=True):\n",
        "        super(conv, self).__init__()\n",
        "        if(activation):\n",
        "          self.layer = nn.Sequential(\n",
        "             nn.Conv2d(in_ch, out_ch, 3, padding=1),\n",
        "             nn.BatchNorm2d(out_ch),\n",
        "             nn.ReLU(inplace=True)\n",
        "          )\n",
        "        else:\n",
        "          self.layer = nn.Sequential(\n",
        "             nn.Conv2d(in_ch, out_ch, 3, padding=1)  \n",
        "             )\n",
        "\n",
        "    def forward(self, x):\n",
        "        x = self.layer(x)\n",
        "        return x\n",
        "\n",
        "'''\n",
        "# downsampling module equal to a conv module followed by a max-pool layer\n",
        "'''\n",
        "class down(nn.Module):\n",
        "    def __init__(self, in_ch, out_ch):\n",
        "        super(down, self).__init__()\n",
        "        self.layer = nn.Sequential(\n",
        "            conv(in_ch, out_ch),\n",
        "            nn.MaxPool2d(2)\n",
        "            )\n",
        "\n",
        "    def forward(self, x):\n",
        "        x = self.layer(x)\n",
        "        return x\n",
        "\n",
        "'''\n",
        "# upsampling module equal to a upsample function followed by a conv module\n",
        "'''\n",
        "class up(nn.Module):\n",
        "    def __init__(self, in_ch, out_ch, bilinear=False):\n",
        "        super(up, self).__init__()\n",
        "        if bilinear:\n",
        "            self.up = nn.Upsample(scale_factor=2, mode='bilinear', align_corners=True)\n",
        "        else:\n",
        "            self.up = nn.ConvTranspose2d(in_ch, in_ch, 2, stride=2)\n",
        "\n",
        "        self.conv = conv(in_ch, out_ch)\n",
        "\n",
        "    def forward(self, x):\n",
        "        y = self.up(x)\n",
        "        y = self.conv(y)\n",
        "        return y\n",
        "\n",
        "'''\n",
        "# the main model which you need to complete by using above modules.\n",
        "# you can also modify the above modules in order to improve your results.\n",
        "'''\n",
        "class MyModel(nn.Module):\n",
        "    def __init__(self):\n",
        "        super(MyModel, self).__init__()\n",
        "        \n",
        "        # Encoder\n",
        "        \n",
        "        self.input_conv = conv(3, 4) #conv = conv2d + BN + ReLu\n",
        "        self.down = down(4, 8) #conv + pool\n",
        "        ############################################################\n",
        "        self.en_conv1 = conv(8, 8)\n",
        "        self.down1 = down(8,16)\n",
        "        ##########################################################\n",
        "        self.en_conv21 = conv(16, 16)\n",
        "        self.en_conv22 = conv(16, 16)\n",
        "        self.down2 = down(16,32)\n",
        "        ########################################################\n",
        "        self.en_conv31 = conv(32, 32)\n",
        "        self.en_conv32 = conv(32, 32)\n",
        "        self.down3 = down(32,64)\n",
        "        ########################################################\n",
        "        self.en_conv41 = conv(64, 64)\n",
        "        self.en_conv42 = conv(64, 64)\n",
        "        self.down4 = down(64,128)\n",
        "        \n",
        "        # Decoder\n",
        "        self.up4 = up(128, 64)\n",
        "        self.de_conv41 = conv(64, 64)\n",
        "        self.de_conv42 = conv(64, 64)\n",
        "        ###############################################################\n",
        "        self.up3 = up(64, 32)\n",
        "        self.de_conv31 = conv(32, 32)\n",
        "        self.de_conv32 = conv(32, 32)\n",
        "        ###################################################################\n",
        "        self.up2 = up(32, 16)\n",
        "        self.de_conv21 = conv(16, 16)\n",
        "        self.de_conv22 = conv(16, 16)\n",
        "        ####################################################################\n",
        "        self.up1 = up(16, 8)\n",
        "        self.de_conv1 = conv(8, 8)\n",
        "        #######################################################################\n",
        "        self.up = up(8, 4) ##conv + unpool\n",
        "        self.output_conv = conv(4, 1, False) # ReLu activation is removed to keep the logits for the loss function\n",
        "        \n",
        "\n",
        "    def forward(self, input):\n",
        "      y = self.input_conv(input)\n",
        "      y = self.down(y)\n",
        "      y  = self.en_conv1(y)\n",
        "      y = self.down1(y)\n",
        "      y  = self.en_conv21(y)\n",
        "      y  = self.en_conv22(y)\n",
        "      y = self.down2(y)\n",
        "      y  = self.en_conv31(y)\n",
        "      y  = self.en_conv32(y)\n",
        "      y = self.down3(y)\n",
        "      y  = self.en_conv41(y)\n",
        "      y  = self.en_conv42(y)\n",
        "      y = self.down4(y)\n",
        "      y = self.up4(y)\n",
        "      y = self.de_conv41(y)\n",
        "      y = self.de_conv42(y)\n",
        "      y = self.up3(y)\n",
        "      y = self.de_conv31(y)\n",
        "      y = self.de_conv32(y)\n",
        "      y = self.up2(y)\n",
        "      y = self.de_conv21(y)\n",
        "      y = self.de_conv22(y)\n",
        "      y = self.up1(y)\n",
        "      y = self.de_conv1(y)\n",
        "      y = self.up(y)\n",
        "      output = self.output_conv(y)\n",
        "      return output"
      ],
      "execution_count": null,
      "outputs": []
    },
    {
      "cell_type": "markdown",
      "metadata": {
        "id": "rQj86vD9QT_Z"
      },
      "source": [
        "### Training"
      ]
    },
    {
      "cell_type": "code",
      "metadata": {
        "id": "mkqEPhZ3GO5d"
      },
      "source": [
        "def dice_loss(predict, gt):\n",
        "  m = nn.Sigmoid()\n",
        "  predict_sig = m(predict)\n",
        "  bat = predict.shape[0]\n",
        "  mul = predict_sig * gt\n",
        "  mul = mul.sum(2)\n",
        "  mul = mul.sum(2)\n",
        "  numerator = 2*mul + 1\n",
        "  predict_sum = predict_sig.sum(2)\n",
        "  predict_sum = predict_sum.sum(2)\n",
        "  gt_sum = gt.sum(2)\n",
        "  gt_sum = gt_sum.sum(2)\n",
        "  denominator = predict_sum + gt_sum + 1\n",
        "  dc = 1 - (numerator/denominator)\n",
        "  dc = (dc.sum(0)/bat)[0]\n",
        "  return dc"
      ],
      "execution_count": null,
      "outputs": []
    },
    {
      "cell_type": "code",
      "metadata": {
        "id": "MaZuO4SKSBuF"
      },
      "source": [
        "'''\n",
        "# The following is a basic training procedure to train the network\n",
        "# You need to update the code to get the best performance\n",
        "# TODO: approx ? lines\n",
        "'''\n",
        "\n",
        "# Set the hyperparameters\n",
        "num_epochs = 15 #best at 10, trying 15\n",
        "batch_size = 4\n",
        "learning_rate = 0.007\n",
        "weight_decay = 0.00001\n",
        "\n",
        "model = MyModel() # initialize the model\n",
        "model = model.cuda() # move the model to GPU\n",
        "loader, _ = get_plane_dataset('train', batch_size) # initialize data_loader\n",
        "crit = nn.BCEWithLogitsLoss() # Define the loss function\n",
        "optim = torch.optim.AdamW(model.parameters(), lr=learning_rate, weight_decay=weight_decay) # Initialize the optimizer as SGD\n",
        "\n",
        "# start the training procedure\n",
        "for epoch in range(num_epochs):\n",
        "  total_loss = 0\n",
        "  for (img, mask) in tqdm(loader):\n",
        "    img = torch.tensor(img, device=torch.device('cuda'), requires_grad = True)\n",
        "    mask = torch.tensor(mask, device=torch.device('cuda'), requires_grad = True)\n",
        "    pred = model(img)\n",
        "    loss1 = crit(pred, mask)\n",
        "    loss2 = dice_loss(pred,mask)\n",
        "    loss = loss1 + loss2\n",
        "    optim.zero_grad()\n",
        "    loss.backward()\n",
        "    optim.step()\n",
        "    total_loss += loss.cpu().data\n",
        "  print(\"Epoch: {}, Loss: {}\".format(epoch, total_loss/len(loader)))\n",
        "  torch.save(model.state_dict(), '{}/output/{}_segmentation_model.pth'.format(BASE_DIR, epoch))\n",
        "\n",
        "'''\n",
        "# Saving the final model\n",
        "'''\n",
        "torch.save(model.state_dict(), '{}/output/final_segmentation_model.pth'.format(BASE_DIR))\n"
      ],
      "execution_count": null,
      "outputs": []
    },
    {
      "cell_type": "markdown",
      "metadata": {
        "id": "0dyez1fyQYw7"
      },
      "source": [
        "### Evaluation and Visualization"
      ]
    },
    {
      "cell_type": "code",
      "metadata": {
        "id": "TDeViryUSCL2"
      },
      "source": [
        "'''\n",
        "# Before starting the evaluation, you need to set the model mode to eval\n",
        "# You may load the trained model again, in case if you want to continue your code later\n",
        "# TODO: approx 15 lines\n",
        "'''\n",
        "batch_size = 8\n",
        "model = MyModel().cuda()\n",
        "model.load_state_dict(torch.load('{}/output/final_segmentation_model.pth'.format(BASE_DIR)))\n",
        "model = model.eval() # chaning the model to evaluation mode will fix the bachnorm layers\n",
        "loader, dataset = get_plane_dataset('train', batch_size)\n",
        "\n",
        "m = nn.Sigmoid()\n",
        "total_iou = 0\n",
        "pic_num = 0\n",
        "for (img, mask) in tqdm(loader):\n",
        "  with torch.no_grad():\n",
        "    img = img.cuda()\n",
        "    mask = mask.cuda()\n",
        "    mask = torch.unsqueeze(mask,1)\n",
        "    pred = model(img)\n",
        "    pred = m(pred)\n",
        "    pred = pred.cpu().detach().numpy()\n",
        "    mask = mask.cpu().detach().numpy()\n",
        "    bat_pred = pred.shape[0]\n",
        "    bat_mask = mask.shape[0]\n",
        "    pred = pred.reshape(bat_pred,128,128,1)\n",
        "    mask = mask.reshape(bat_mask,128,128,1)\n",
        "    pred[pred < 0.6] = 0\n",
        "    pred[pred >= 0.6] = 1\n",
        "    if mask.shape[0] == pred.shape[0]:\n",
        "      for i in range(mask.shape[0]):\n",
        "        pic_num = pic_num + 1\n",
        "        intersection = np.logical_and(pred[i], mask[i])\n",
        "        union = np.logical_or(pred[i], mask[i])\n",
        "        total_iou = total_iou + (np.sum(intersection) / np.sum(union))\n",
        "    else:\n",
        "      print(\"mask and input has different size\")\n",
        "\n",
        "\n",
        "    '''\n",
        "    ## Complete the code by obtaining the IoU for each img and print the final Mean IoU\n",
        "    '''\n",
        "    \n",
        "mean_iou = total_iou / pic_num    \n",
        "\n",
        "print(\"\\n #images: {}, Mean IoU: {}\".format(pic_num, mean_iou))\n"
      ],
      "execution_count": null,
      "outputs": []
    },
    {
      "cell_type": "code",
      "metadata": {
        "id": "jbmTj9JICiKz"
      },
      "source": [
        "'''\n",
        "# Visualize 3 sample outputs\n",
        "# TODO: approx 5 lines\n",
        "'''\n",
        "hf = h5py.File(save_path, 'r')\n",
        "transform = transforms.Compose([transforms.ToTensor(),])\n",
        "dataset_dicts = get_detection_data(\"test\")\n",
        "for d in random.sample(dataset_dicts, 3):\n",
        "    #img = cv2.imread(d[\"file_name\"])\n",
        "    #print(img.shape)\n",
        "    filename = d[\"file_name\"][-9:]\n",
        "    img = np.array(hf[\"test\"][filename]).astype(\"uint8\")\n",
        "    if len(img.shape) == 2:\n",
        "      img = cv2.merge((img,img,img))\n",
        "    outputs = predictor(img)\n",
        "    bbox = np.array(np.array(np.array(outputs['instances'].pred_boxes[0]))[0].to(\"cpu\"))\n",
        "    #bbox = outputs['instances'].pred_boxes\n",
        "    #for box in bbox:\n",
        "    #  print(int(box[0]))\n",
        "    #print(len(np.array(outputs['instances'].pred_boxes)))\n",
        "    #breakline\n",
        "    x = int(bbox[0])\n",
        "    y = int(bbox[1])\n",
        "    w = int(bbox[2])\n",
        "    h = int(bbox[3])\n",
        "    img = img[y:h, x:w]\n",
        "    img = cv2.resize(img,dsize=(128,128))\n",
        "    cv2_imshow(img)\n",
        "    img = transform(img)\n",
        "    img = img[np.newaxis, :, : ]\n",
        "    #img = torch.tensor(img, dtype=torch.float)\n",
        "    img = img.cuda()\n",
        "    pred = model(img)\n",
        "    pred = m(pred)\n",
        "    pred = pred.cpu().detach().numpy()\n",
        "    pred = pred.reshape(pred.shape[2],pred.shape[3],pred.shape[1])\n",
        "    pred[pred < 0.6] = 0\n",
        "    pred[pred >= 0.6] = 1\n",
        "    pred = pred*255\n",
        "    cv2_imshow(pred)\n",
        "hf.close()"
      ],
      "execution_count": null,
      "outputs": []
    },
    {
      "cell_type": "markdown",
      "metadata": {
        "id": "navoiGdrqaZT"
      },
      "source": [
        "## Part 3: Instance Segmentation\n",
        "\n",
        "In this part, you need to obtain the instance segmentation results for the test data by using the trained segmentation model in the previous part and the detection model in Part 1."
      ]
    },
    {
      "cell_type": "markdown",
      "metadata": {
        "id": "vBwk33DGBowP"
      },
      "source": [
        "### Get Prediction"
      ]
    },
    {
      "cell_type": "code",
      "metadata": {
        "cellView": "code",
        "id": "crrZ8TG-Ot2J"
      },
      "source": [
        "'''\n",
        "# Define a new function to obtain the prediction mask by passing a sample data\n",
        "# For this part, you need to use all the previous parts (predictor, get_instance_sample, data preprocessings, etc)\n",
        "# It is better to keep everything (as well as the output of this funcion) on gpu as tensors to speed up the operations.\n",
        "# pred_mask is the instance segmentation result and should have different values for different planes.\n",
        "# TODO: approx 35 lines\n",
        "'''\n",
        "def get_prediction_mask(data, set_name):\n",
        "  m = nn.Sigmoid()\n",
        "  hf = h5py.File(save_path, 'r')\n",
        "  filename = data[\"file_name\"][-9:]\n",
        "\n",
        "  img = np.array(hf[set_name][filename]).astype(\"uint8\")\n",
        "  if len(img.shape) == 2:\n",
        "    img = cv2.merge((img,img,img))\n",
        "\n",
        "  \n",
        "  pred_mask = torch.zeros(data['height'], data['width']).cuda()\n",
        "  gt_mask = torch.zeros(1,data['height'], data['width']).cuda()\n",
        "  outputs = predictor(img)\n",
        "  pred_bbox = outputs['instances'].pred_boxes\n",
        "\n",
        "  for ind, box in enumerate(pred_bbox):\n",
        "    x = int(box[0])\n",
        "    y = int(box[1])\n",
        "    w = int(box[2])\n",
        "    h = int(box[3])\n",
        "    seg = img[y:h, x:w]\n",
        "    seg = transform(seg)\n",
        "    seg = seg.unsqueeze(0)\n",
        "    seg = F.interpolate(seg, size=(128,128))\n",
        "    seg = seg.squeeze(0)\n",
        "    seg =  seg.reshape(1,seg.shape[0], seg.shape[1],seg.shape[2])\n",
        "    seg = seg.cuda()\n",
        "    seg_mask = model(seg)\n",
        "    seg_mask = m(seg_mask)\n",
        "    seg_mask = torch.where(seg_mask<0.6, 0., float(ind+1))\n",
        "    seg_mask = F.interpolate(seg_mask, size=(h-y,w-x))\n",
        "    pred_mask[y:h, x:w] = seg_mask\n",
        "\n",
        "  #img = transform(img)\n",
        "  pred_mask = pred_mask.unsqueeze(0)\n",
        "\n",
        "  \n",
        "  if set_name == 'train' or set_name == 'val':\n",
        "    for i in range (len(data['annotations'])):\n",
        "      mask = GenericMask(data['annotations'][i]['segmentation'],data['height'],data['width']).mask\n",
        "      mask =  mask.reshape(1,mask.shape[0], mask.shape[1])\n",
        "      mask = torch.tensor(mask, dtype=torch.float).cuda()\n",
        "      gt_mask = gt_mask + mask\n",
        "\n",
        "  hf.close()\n",
        "  return img, gt_mask, pred_mask # gt_mask could be all zero when the ground truth is not given.\n"
      ],
      "execution_count": null,
      "outputs": []
    },
    {
      "cell_type": "markdown",
      "metadata": {
        "id": "fc7TSK6EBi9u"
      },
      "source": [
        "### Visualization and Submission"
      ]
    },
    {
      "cell_type": "code",
      "metadata": {
        "id": "H7T2YX8MBiGO"
      },
      "source": [
        "'''\n",
        "# Visualise the output prediction as well as the GT Mask and Input image for a sample input\n",
        "# TODO: approx 10 lines\n",
        "'''\n",
        "my_data_list = DatasetCatalog.get(\"data_detection_{}\".format('val'))\n",
        "for i in tqdm(range(8,9), position=0, leave=True):\n",
        "  sample = my_data_list[i]\n",
        "  img, gt_mask, pred_mask = get_prediction_mask(sample, 'val')\n",
        "  pred_mask = pred_mask.squeeze(0)\n",
        "  pred_mask = pred_mask.unsqueeze(2)\n",
        "  gt_mask = gt_mask.squeeze(0)\n",
        "  gt_mask = gt_mask.unsqueeze(2)\n",
        "  #print(img.shape)\n",
        "  #img = img.reshape(img.shape[1],img.shape[2],img.shape[0])\n",
        "  #print(np.array(img.cpu()))\n",
        "  img = cv2.resize(img,dsize=(2000,2000))\n",
        "  cv2_imshow(img)\n",
        "  #cv2_imshow(np.array(pred_mask.cpu())*255)\n",
        "  #cv2_imshow(np.array(gt_mask.cpu())*255)\n",
        "  print(\"----------------------------------\")"
      ],
      "execution_count": null,
      "outputs": []
    },
    {
      "cell_type": "code",
      "metadata": {
        "id": "uPo_03up-g_f"
      },
      "source": [
        "'''\n",
        "# ref: https://www.kaggle.com/rakhlin/fast-run-length-encoding-python\n",
        "# https://www.kaggle.com/c/airbus-ship-detection/overview/evaluation\n",
        "'''\n",
        "def rle_encoding(x):\n",
        "    '''\n",
        "    x: pytorch tensor on gpu, 1 - mask, 0 - background\n",
        "    Returns run length as list\n",
        "    '''\n",
        "    dots = torch.where(torch.flatten(x.long())==1)[0]\n",
        "    if(len(dots)==0):\n",
        "      return []\n",
        "    inds = torch.where(dots[1:]!=dots[:-1]+1)[0]+1\n",
        "    inds = torch.cat((torch.tensor([0], device=torch.device('cuda'), dtype=torch.long), inds))\n",
        "    tmpdots = dots[inds]\n",
        "    inds = torch.cat((inds, torch.tensor([len(dots)], device=torch.device('cuda'))))\n",
        "    inds = inds[1:] - inds[:-1]\n",
        "    runs = torch.cat((tmpdots, inds)).reshape((2,-1))\n",
        "    runs = torch.flatten(torch.transpose(runs, 0, 1)).cpu().data.numpy()\n",
        "    return ' '.join([str(i) for i in runs])"
      ],
      "execution_count": null,
      "outputs": []
    },
    {
      "cell_type": "code",
      "metadata": {
        "id": "zv0rab2LJev-"
      },
      "source": [
        "'''\n",
        "# You need to upload the csv file on kaggle\n",
        "# The speed of your code in the previous parts highly affects the running time of this part\n",
        "'''\n",
        "\n",
        "preddic = {\"ImageId\": [], \"EncodedPixels\": []}\n",
        "\n",
        "'''\n",
        "# Writing the predictions of the valid set\n",
        "'''\n",
        "set_name = 'val'\n",
        "my_data_list = DatasetCatalog.get(\"data_detection_{}\".format('val'))\n",
        "for i in tqdm(range(len(my_data_list)), position=0, leave=True):\n",
        "  sample = my_data_list[i]\n",
        "  sample['image_id'] = sample['file_name'].split(\"/\")[-1][:-4]\n",
        "  img, true_mask, pred_mask = get_prediction_mask(sample, set_name)\n",
        "  inds = torch.unique(pred_mask)\n",
        "  if(len(inds)==1):\n",
        "    preddic['ImageId'].append(sample['image_id'])\n",
        "    preddic['EncodedPixels'].append([])\n",
        "  else:\n",
        "    for index in inds:\n",
        "      if(index == 0):\n",
        "        continue\n",
        "      tmp_mask = (pred_mask==index)\n",
        "      encPix = rle_encoding(tmp_mask)\n",
        "      preddic['ImageId'].append(sample['image_id'])\n",
        "      preddic['EncodedPixels'].append(encPix)\n",
        "\n",
        "'''\n",
        "# Writing the predictions of the training set\n",
        "'''\n",
        "set_name = 'train'\n",
        "my_data_list = DatasetCatalog.get(\"data_detection_{}\".format('train'))\n",
        "for i in tqdm(range(len(my_data_list)), position=0, leave=True):\n",
        "  sample = my_data_list[i]\n",
        "  sample['image_id'] = sample['file_name'].split(\"/\")[-1][:-4]\n",
        "  img, true_mask, pred_mask = get_prediction_mask(sample, set_name)\n",
        "  inds = torch.unique(pred_mask)\n",
        "  if(len(inds)==1):\n",
        "    preddic['ImageId'].append(sample['image_id'])\n",
        "    preddic['EncodedPixels'].append([])\n",
        "  else:\n",
        "    for index in inds:\n",
        "      if(index == 0):\n",
        "        continue\n",
        "      tmp_mask = (pred_mask==index)\n",
        "      encPix = rle_encoding(tmp_mask)\n",
        "      preddic['ImageId'].append(sample['image_id'])\n",
        "      preddic['EncodedPixels'].append(encPix)\n",
        "\n",
        "\n",
        "'''\n",
        "# Writing the predictions of the test set\n",
        "'''\n",
        "set_name = 'test'\n",
        "my_data_list = DatasetCatalog.get(\"data_detection_{}\".format('test'))\n",
        "for i in tqdm(range(len(my_data_list)), position=0, leave=True):\n",
        "  sample = my_data_list[i]\n",
        "  sample['image_id'] = sample['file_name'].split(\"/\")[-1][:-4]\n",
        "  img, true_mask, pred_mask = get_prediction_mask(sample, set_name)\n",
        "  inds = torch.unique(pred_mask)\n",
        "  if(len(inds)==1):\n",
        "    preddic['ImageId'].append(sample['image_id'])\n",
        "    preddic['EncodedPixels'].append([])\n",
        "  else:\n",
        "    for j, index in enumerate(inds):\n",
        "      if(index == 0):\n",
        "        continue\n",
        "      tmp_mask = (pred_mask==index).double()\n",
        "      encPix = rle_encoding(tmp_mask)\n",
        "      preddic['ImageId'].append(sample['image_id'])\n",
        "      preddic['EncodedPixels'].append(encPix)\n",
        "\n",
        "pred_file = open(\"{}/pred.csv\".format(BASE_DIR), 'w')\n",
        "pd.DataFrame(preddic).to_csv(pred_file, index=False)\n",
        "pred_file.close()\n"
      ],
      "execution_count": null,
      "outputs": []
    },
    {
      "cell_type": "markdown",
      "metadata": {
        "id": "p7nN4SduqrpI"
      },
      "source": [
        "## Part 4: Mask R-CNN\n",
        "\n",
        "For this part you need to follow a same procedure to part 2 with the configs of Mask R-CNN, other parts are generally the same as part 2."
      ]
    },
    {
      "cell_type": "markdown",
      "metadata": {
        "id": "axWf7drKNXYd"
      },
      "source": [
        "### Data Loader"
      ]
    },
    {
      "cell_type": "code",
      "metadata": {
        "id": "yC1FDCcQN2LH"
      },
      "source": [
        "for d in [\"train\", \"test\", \"val\"]:\n",
        "  DatasetCatalog.register(\"data_mask_\" + d, lambda d=d: get_detection_data(d))\n",
        "  MetadataCatalog.get(\"data_mask_\" + d).set(thing_classes=[\"plane\"])\n",
        "plane_metadata = MetadataCatalog.get(\"data_mask_train\")"
      ],
      "execution_count": null,
      "outputs": []
    },
    {
      "cell_type": "markdown",
      "metadata": {
        "id": "lG5slAhQNjE7"
      },
      "source": [
        "### Network"
      ]
    },
    {
      "cell_type": "code",
      "metadata": {
        "id": "KG1pnKLMOcjS"
      },
      "source": [
        "cfgm = get_cfg()\n",
        "cfgm.OUTPUT_DIR = \"{}/outputm/\".format(BASE_DIR)\n",
        "cfgm.merge_from_file(model_zoo.get_config_file(\"COCO-InstanceSegmentation/mask_rcnn_R_50_FPN_3x.yaml\"))\n",
        "cfgm.DATASETS.TRAIN = (\"data_mask_train\",)\n",
        "cfgm.DATASETS.TEST = (\"data_mask_val\",)\n",
        "cfgm.DATALOADER.NUM_WORKERS = 2\n",
        "cfgm.MODEL.WEIGHTS = model_zoo.get_checkpoint_url(\"COCO-InstanceSegmentation/mask_rcnn_R_50_FPN_3x.yaml\")  # Let training initialize from model zoo\n",
        "cfgm.SOLVER.IMS_PER_BATCH = 2 # 2 = 1 58%\n",
        "cfgm.SOLVER.BASE_LR = 0.025  # pick a good LR\n",
        "cfgm.SOLVER.MAX_ITER = 500\n",
        "cfgm.SOLVER.STEPS = [200,]#[300,]        # decay learning rate\n",
        "cfgm.SOLVER.GAMMA = 0.1\n",
        "cfgm.MODEL.ROI_HEADS.BATCH_SIZE_PER_IMAGE = 128   # faster, and good enough for this toy dataset (default: 512)\n",
        "cfgm.MODEL.ROI_HEADS.NUM_CLASSES = 1\n",
        "cfgm.MODEL.RETINANET.NUM_CLASSES = 1\n",
        "cfgm.MODEL.RETINANET.BATCH_SIZE_PER_IMAGE = 128\n",
        "#cfg.INPUT.MIN_SIZE_TRAIN = 1000\n",
        "#cfg.INPUT.MIN_SIZE_TEST = 1000\n",
        "cfgm.INPUT.MAX_SIZE_TRAIN = 3000 # 8000=6000 = 4000 58%\n",
        "cfgm.INPUT.MAX_SIZE_TEST = 3000\n",
        "\n",
        "#cfgm.TEST.DETECTIONS_PER_IMAGE = 1000"
      ],
      "execution_count": null,
      "outputs": []
    },
    {
      "cell_type": "markdown",
      "metadata": {
        "id": "t7ifeV1sNvtt"
      },
      "source": [
        "### Training"
      ]
    },
    {
      "cell_type": "code",
      "metadata": {
        "id": "tc4K0Nz5OeKk"
      },
      "source": [
        "os.makedirs(cfgm.OUTPUT_DIR, exist_ok=True)\n",
        "trainer = DefaultTrainer(cfgm) \n",
        "trainer.resume_or_load(resume=False)\n",
        "trainer.train()"
      ],
      "execution_count": null,
      "outputs": []
    },
    {
      "cell_type": "markdown",
      "metadata": {
        "id": "298QruFnNxyn"
      },
      "source": [
        "### Evaluation and Visualization"
      ]
    },
    {
      "cell_type": "code",
      "metadata": {
        "id": "KcGwV5-9Oetp"
      },
      "source": [
        "cfgm.MODEL.WEIGHTS = os.path.join(cfgm.OUTPUT_DIR, \"model_final.pth\")  # path to the model we just trained\n",
        "cfgm.MODEL.ROI_HEADS.SCORE_THRESH_TEST = 0.6   # set a custom testing threshold\n",
        "cfgm.MODEL.RETINANET.SCORE_THRESH_TEST = 0.6 #for RETINA\n",
        "predictor = DefaultPredictor(cfgm)\n",
        "\n",
        "dataset_dicts = get_detection_data(\"test\")\n",
        "for d in random.sample(dataset_dicts, 3):    \n",
        "    im = cv2.imread(d[\"file_name\"])\n",
        "    outputs = predictor(im)  # format is documented at https://detectron2.readthedocs.io/tutorials/models.html#model-output-format\n",
        "    v = Visualizer(im[:, :, ::-1],\n",
        "                   metadata=plane_metadata, \n",
        "                   scale=0.5, \n",
        "                   instance_mode=ColorMode.IMAGE_BW   # remove the colors of unsegmented pixels. This option is only available for segmentation models\n",
        "    )\n",
        "    out = v.draw_instance_predictions(outputs[\"instances\"].to(\"cpu\"))\n",
        "    cv2_imshow(out.get_image()[:, :, ::-1])"
      ],
      "execution_count": null,
      "outputs": []
    },
    {
      "cell_type": "code",
      "metadata": {
        "id": "l_3wS2BFLLGp"
      },
      "source": [
        "evaluator = COCOEvaluator(\"data_mask_val\", output_dir = cfgm.OUTPUT_DIR)\n",
        "train_loader = build_detection_test_loader(cfgm, \"data_mask_val\")\n",
        "print(inference_on_dataset(predictor.model, train_loader, evaluator))"
      ],
      "execution_count": null,
      "outputs": []
    }
  ]
}